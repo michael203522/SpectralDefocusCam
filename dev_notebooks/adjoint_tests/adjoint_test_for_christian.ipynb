{
 "cells": [
  {
   "cell_type": "code",
   "execution_count": 1,
   "metadata": {},
   "outputs": [],
   "source": [
    "import numpy as np\n",
    "import torch\n",
    "import torch.nn.functional as F\n",
    "import matplotlib.pyplot as plt\n",
    "import scipy.io \n",
    "%matplotlib inline\n",
    "%load_ext autoreload\n",
    "%autoreload 2\n",
    "\n",
    "import os, glob, cv2\n",
    "\n",
    "# packages needed for making a dataset: \n",
    "from torch.utils.data import DataLoader\n",
    "from torchvision import transforms\n",
    "\n",
    "from diffuser_utils import *\n",
    "import dataset as ds\n",
    "import models.spectral_model as sm\n",
    "#import models.machinelearning_forward as fm\n",
    "\n",
    "from datetime import date, datetime\n",
    "\n",
    "import sys\n",
    "sys.path.append(\"..\")\n",
    "\n",
    "from models.unet import Unet\n",
    "import models.unet3d as unet3d\n",
    "\n",
    "\n",
    "import csv\n",
    "\n",
    "os.environ[\"CUDA_DEVICE_ORDER\"]= \"PCI_BUS_ID\"\n",
    "os.environ[\"CUDA_VISIBLE_DEVICES\"]= \"2\" #choose the number of gpu that's free. It goes from 0-3\n",
    "\n",
    "device = 'cuda:0'"
   ]
  },
  {
   "cell_type": "code",
   "execution_count": 2,
   "metadata": {},
   "outputs": [],
   "source": [
    "import spectral_diffusercam_utils.helper_functions as helper\n",
    "\n",
    "loaded_mat = scipy.io.loadmat('sample_data/calibration.mat')\n",
    "img = plt.imread('sample_data/meas_thordog.png')\n",
    "mask, psf, img = helper.preprocess(loaded_mat['mask'], loaded_mat['psf'], img)\n",
    "mask = mask[:,:,0:-1]"
   ]
  },
  {
   "cell_type": "code",
   "execution_count": 3,
   "metadata": {},
   "outputs": [],
   "source": [
    "psf_np = psf"
   ]
  },
  {
   "cell_type": "code",
   "execution_count": 4,
   "metadata": {},
   "outputs": [],
   "source": [
    "def fft_psf(h):\n",
    "    h_complex = pad_zeros_torch(forward_model,torch.complex(h,torch.zeros_like(h)))\n",
    "    H = torch.fft.fft2(torch.fft.ifftshift(h_complex)).unsqueeze(1)\n",
    "    return H\n",
    "def fft_im(im):\n",
    "    xc = torch.complex(im, torch.zeros_like(im))  \n",
    "    Xi = torch.fft.fft2(xc)    \n",
    "    return Xi\n",
    "def tt(x):\n",
    "    return torch.tensor(x, dtype = torch.float32, device = device)"
   ]
  },
  {
   "cell_type": "code",
   "execution_count": 11,
   "metadata": {},
   "outputs": [],
   "source": [
    "import numpy as np\n",
    "import torch\n",
    "import torch.nn as nn\n",
    "import matplotlib.pyplot as plt\n",
    "import os, glob, cv2\n",
    "from diffuser_utils import *\n",
    "\n",
    "class Forward_Model(torch.nn.Module):\n",
    "    # Model initialization \n",
    "    def __init__(self, mask,               # mask: response matrix for the spectral filter array\n",
    "                 num_ims = 2,              # number of blurred images to simulate\n",
    "                 w_init = None,            # initialization for the blur kernels e.g., w_init = [.01, 0.01]\n",
    "                 cuda_device = 0,          # cuda device parameter \n",
    "                 blur_type = 'symmetric',  # symmetric or asymmetric blur kernel \n",
    "                 optimize_blur = False):   # choose whether to learn the best blur or not (warning, not stable)\n",
    "        super(Forward_Model, self).__init__()\n",
    "        \n",
    "        self.cuda_device = cuda_device\n",
    "        self.blur_type  = blur_type\n",
    "       \n",
    "    \n",
    "         ## Initialize constants\n",
    "        self.DIMS0 = mask.shape[0]  # Image Dimensions\n",
    "        self.DIMS1 = mask.shape[1]  # Image Dimensions\n",
    "        self.PAD_SIZE0 = int((self.DIMS0))     # Pad size\n",
    "        self.PAD_SIZE1 = int((self.DIMS1))     # Pad size\n",
    "        \n",
    "        self.num_ims = num_ims\n",
    "  \n",
    "        if w_init is None: #if no blur specified, use default\n",
    "            if self.blur_type == 'symmetric':\n",
    "                w_init = np.linspace(.002, .065, num_ims)\n",
    "            else:\n",
    "                w_init = np.linspace(.002, .1, num_ims)\n",
    "                w_init =  np.repeat(np.array(w_init)[np.newaxis], self.num_ims, axis = 0).T\n",
    "                w_init[:,1] *=.5\n",
    "             \n",
    "        print('optimize blur', optimize_blur)\n",
    "        if self.blur_type == 'symmetric':\n",
    "            #self.w_init =  np.repeat(np.array(w_init[0])[np.newaxis], self.num_ims, axis = 0)\n",
    "            self.w_init = w_init\n",
    "            self.w_blur = torch.nn.Parameter(torch.tensor(self.w_init, dtype = torch.float32, \n",
    "                                                          device = self.cuda_device,\n",
    "                                                         requires_grad = optimize_blur))\n",
    "        else:\n",
    "            self.w_init =  w_init\n",
    "            self.w_blur = torch.nn.Parameter(torch.tensor(self.w_init, dtype = torch.float32, \n",
    "                                                          device = self.cuda_device,\n",
    "                                                         requires_grad = optimize_blur))\n",
    "\n",
    "        # set up grid \n",
    "        x=np.linspace(-1,1,self.DIMS1); \n",
    "        y=np.linspace(-1,1,self.DIMS0); \n",
    "        X,Y=np.meshgrid(x,y)\n",
    "        \n",
    "        self.X = torch.tensor(X, dtype=torch.float32, device=self.cuda_device)\n",
    "        self.Y = torch.tensor(Y, dtype=torch.float32, device=self.cuda_device)\n",
    "        \n",
    "        self.mask = np.transpose(mask, (2,0,1))\n",
    "        self.mask_var = torch.tensor(self.mask, dtype=torch.float32, device=self.cuda_device).unsqueeze(0)\n",
    "        self.psf = np.empty((num_ims, self.DIMS0, self.DIMS1))\n",
    "        \n",
    "    \n",
    "    def make_psfs(self, ):\n",
    "        \n",
    "        psfs = []\n",
    "        for i in range(0,self.num_ims):\n",
    "            if self.blur_type == 'symmetric':\n",
    "                psf= torch.exp(-((self.X/self.w_blur[i])**2+(self.Y/self.w_blur[i])**2))\n",
    "            else:\n",
    "                psf= torch.exp(-((self.X/self.w_blur[i,0])**2+(self.Y/self.w_blur[i,1])**2))\n",
    "            \n",
    "            #psf = psf/torch.max(psf)\n",
    "            psfs.append(psf)\n",
    "        \n",
    "        return torch.stack(psfs, 0)\n",
    "    def Hfor(self):\n",
    "        H = fft_psf(self, self.psfs)\n",
    "        X = self.Xi\n",
    "        out = torch.fft.ifft2(H*X).real\n",
    "        output = forward_model.mask_var * crop_forward(forward_model,  out)\n",
    "        output = torch.sum(output, 2)\n",
    "        return output\n",
    "    \n",
    "    def Hadj(self, sim_meas):\n",
    "        Hconj = torch.conj(fft_psf(self, self.psfs))\n",
    "        sm = pad_zeros_torch(self, sim_meas.unsqueeze(2) * self.mask_var)\n",
    "        SM = fft_im(sm)\n",
    "        adj_meas = torch.fft.ifft2(Hconj*SM).real\n",
    "        return adj_meas\n",
    "    \n",
    "    # forward call for the model\n",
    "    def forward(self, in_image):\n",
    "        self.Xi = fft_im(in_image).unsqueeze(0)\n",
    "        self.psfs = self.make_psfs()\n",
    "        final_output = self.Hfor()\n",
    "        return final_output"
   ]
  },
  {
   "cell_type": "code",
   "execution_count": 12,
   "metadata": {},
   "outputs": [
    {
     "name": "stdout",
     "output_type": "stream",
     "text": [
      "optimize blur False\n"
     ]
    }
   ],
   "source": [
    "# define fwd model\n",
    "num_images = 1\n",
    "num_inputs_simult = 2\n",
    "blur_type = 'symmetric'\n",
    "optimize_blur = False\n",
    "forward_model = Forward_Model(mask, num_ims = num_inputs_simult, blur_type = blur_type, cuda_device = device)"
   ]
  },
  {
   "cell_type": "code",
   "execution_count": 16,
   "metadata": {},
   "outputs": [
    {
     "name": "stdout",
     "output_type": "stream",
     "text": [
      "3173.9722957774975\n",
      "3173.9738810010294\n"
     ]
    }
   ],
   "source": [
    "x = np.random.randn(2, 64, mask.shape[0]*2, mask.shape[1]*2)\n",
    "#x = np.zeros((2, 64, mask.shape[0]*2, mask.shape[1]*2))\n",
    "x[:,10:20, mask.shape[0], mask.shape[1]]=1\n",
    "\n",
    "y = np.random.randn(1, 2, mask.shape[0], mask.shape[1])\n",
    "\n",
    "forward_model.Xi = fft_im(tt(x, device)).unsqueeze(0)\n",
    "forward_model.psfs = forward_model.make_psfs()\n",
    "\n",
    "y_tilda = forward_model.Hfor().detach().cpu().numpy()\n",
    "x_tilda2 = forward_model.Hadj(tt(y_tilda, device)).detach().cpu().numpy()\n",
    "x_tilda = forward_model.Hadj(tt(y, device)).detach().cpu().numpy()\n",
    "\n",
    "print((y.ravel()).dot(y_tilda.ravel()))\n",
    "print((x.ravel()).dot(x_tilda.ravel()))\n"
   ]
  },
  {
   "cell_type": "code",
   "execution_count": 14,
   "metadata": {},
   "outputs": [
    {
     "data": {
      "text/plain": [
       "<matplotlib.image.AxesImage at 0x7f47d804f0d0>"
      ]
     },
     "execution_count": 14,
     "metadata": {},
     "output_type": "execute_result"
    },
    {
     "data": {
      "image/png": "[encoded data removed]",
      "text/plain": [
       "<Figure size 432x288 with 2 Axes>"
      ]
     },
     "metadata": {
      "needs_background": "light"
     },
     "output_type": "display_data"
    }
   ],
   "source": [
    "fig, ax = plt.subplots(1,2)\n",
    "ax[0].imshow(forward_model.psfs[0].detach().cpu().numpy())\n",
    "ax[1].imshow(forward_model.psfs[1].detach().cpu().numpy())"
   ]
  },
  {
   "cell_type": "code",
   "execution_count": null,
   "metadata": {},
   "outputs": [],
   "source": []
  },
  {
   "cell_type": "code",
   "execution_count": 15,
   "metadata": {},
   "outputs": [
    {
     "data": {
      "text/plain": [
       "<matplotlib.image.AxesImage at 0x7f47c84a9580>"
      ]
     },
     "execution_count": 15,
     "metadata": {},
     "output_type": "execute_result"
    },
    {
     "data": {
      "image/png": "[encoded data removed]",
      "text/plain": [
       "<Figure size 432x288 with 2 Axes>"
      ]
     },
     "metadata": {
      "needs_background": "light"
     },
     "output_type": "display_data"
    }
   ],
   "source": [
    "fig, ax = plt.subplots(1,2)\n",
    "ax[0].imshow(y_tilda[0,0])\n",
    "ax[1].imshow(y_tilda[0,1])"
   ]
  },
  {
   "cell_type": "code",
   "execution_count": null,
   "metadata": {},
   "outputs": [],
   "source": [
    "fig, ax = plt.subplots(1,2)\n",
    "ax[0].imshow(x_tilda2[0,0, 20])\n",
    "ax[1].imshow(x_tilda2[0,1, 20])"
   ]
  },
  {
   "cell_type": "code",
   "execution_count": null,
   "metadata": {},
   "outputs": [],
   "source": []
  },
  {
   "cell_type": "code",
   "execution_count": null,
   "metadata": {},
   "outputs": [],
   "source": [
    "def Hfor(im, psf):\n",
    "    H = fft_psf(psf)\n",
    "    X = fft_im(im)\n",
    "    out = torch.fft.ifft2(H*X,  dim = (-2, -1)).real\n",
    "    output = forward_model.mask_var * crop_forward(forward_model,  out)\n",
    "    output = torch.sum(output, 1)\n",
    "    return output\n",
    "\n",
    "def Hadj(sim_meas, psf):\n",
    "    Hconj = torch.conj(fft_psf(psf))\n",
    "    sm = pad_zeros_torch(forward_model, sim_meas * forward_model.mask_var)\n",
    "    SM = fft_im(sm)\n",
    "    adj_meas = torch.fft.ifft2(Hconj*SM).real\n",
    "    return adj_meas"
   ]
  },
  {
   "cell_type": "code",
   "execution_count": null,
   "metadata": {},
   "outputs": [],
   "source": [
    "'''\n",
    "x = np.random.randn(64, mask.shape[0]*2, mask.shape[1]*2)\n",
    "#x = np.zeros((64, mask.shape[0]*2, mask.shape[1]*2))\n",
    "#x[30,mask.shape[0],mask.shape[1]]=1\n",
    "y = np.random.randn(mask.shape[0], mask.shape[1])\n",
    "\n",
    "y_tilda = Hfor(tt(x), tt(psf)).detach().cpu().numpy()#[0,1]\n",
    "x_tilda = Hadj(tt(y), tt(psf)).detach().cpu().numpy()\n",
    "\n",
    "\n",
    "print((y.ravel()).dot(y_tilda.ravel()))\n",
    "print((x.ravel()).dot(x_tilda.ravel()))\n",
    "'''"
   ]
  },
  {
   "cell_type": "code",
   "execution_count": null,
   "metadata": {},
   "outputs": [],
   "source": [
    ".shape"
   ]
  },
  {
   "cell_type": "code",
   "execution_count": null,
   "metadata": {},
   "outputs": [],
   "source": [
    "x_tilda.shape"
   ]
  },
  {
   "cell_type": "code",
   "execution_count": null,
   "metadata": {},
   "outputs": [],
   "source": [
    "y_tilda.shape"
   ]
  },
  {
   "cell_type": "code",
   "execution_count": null,
   "metadata": {},
   "outputs": [],
   "source": [
    "y.shape"
   ]
  },
  {
   "cell_type": "code",
   "execution_count": null,
   "metadata": {},
   "outputs": [],
   "source": []
  }
 ],
 "metadata": {
  "kernelspec": {
   "display_name": "defocam",
   "language": "python",
   "name": "defocam"
  },
  "language_info": {
   "codemirror_mode": {
    "name": "ipython",
    "version": 3
   },
   "file_extension": ".py",
   "mimetype": "text/x-python",
   "name": "python",
   "nbconvert_exporter": "python",
   "pygments_lexer": "ipython3",
   "version": "3.9.4"
  }
 },
 "nbformat": 4,
 "nbformat_minor": 2
}
